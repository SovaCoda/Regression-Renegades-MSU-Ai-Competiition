{
 "cells": [
  {
   "cell_type": "code",
   "execution_count": 21,
   "metadata": {},
   "outputs": [],
   "source": [
    "# get all imports\n",
    "import torch\n",
    "import torch.nn as nn\n",
    "import torch.optim as optim\n",
    "from torch.utils.data import DataLoader\n",
    "from sklearn.metrics import accuracy_score, precision_recall_fscore_support, log_loss # if you're on mac using miniconda miniforge3 install miniforge::compilers to fix issue with this module\n",
    "import torchvision.transforms as transforms\n",
    "import torchvision.datasets as datasets\n",
    "import torchvision.models as models\n",
    "import numpy as np\n",
    "import os"
   ]
  },
  {
   "cell_type": "code",
   "execution_count": 23,
   "metadata": {},
   "outputs": [],
   "source": [
    "# Define data transforms from the Ai_Competition github\n",
    "data_transforms = {\n",
    "    'train': transforms.Compose([\n",
    "        transforms.RandomResizedCrop(224),        # Randomly crop the image to 512x512\n",
    "        transforms.RandomHorizontalFlip(),        # Randomly flip the image horizontally\n",
    "        transforms.RandomRotation(30),            # Randomly rotate the image by 10 degrees\n",
    "        transforms.ColorJitter(brightness=0.2, contrast=0.2, saturation=0.2, hue=0.2),  # Randomly change the brightness, contrast, saturation, and hue\n",
    "        transforms.RandomVerticalFlip(),          # Randomly flip the image vertically\n",
    "        transforms.ToTensor(),                    # Convert the image to a tensor\n",
    "        transforms.Normalize([0.485, 0.456, 0.406], # Normalize with standard values\n",
    "                             [0.229, 0.224, 0.225]) # Mean and Std for RGB channels\n",
    "    ]),\n",
    "    'val': transforms.Compose([\n",
    "        transforms.Resize(256),                    # Resize the image to 512x512\n",
    "        transforms.CenterCrop(224),                # Crop from the center\n",
    "        transforms.ToTensor(),                     # Convert the image to a tensor\n",
    "        transforms.Normalize([0.485, 0.456, 0.406], # Normalize with standard values\n",
    "                             [0.229, 0.224, 0.225]) # Mean and Std for RGB channels\n",
    "    ]),\n",
    "    'test': transforms.Compose([\n",
    "        transforms.Resize(256),                    # Resize the image to 512x512\n",
    "        transforms.CenterCrop(224),                # Crop from the center\n",
    "        transforms.ToTensor(),                     # Convert the image to a tensor\n",
    "        transforms.Normalize([0.485, 0.456, 0.406], # Normalize with standard values\n",
    "                             [0.229, 0.224, 0.225]) # Mean and Std for RGB channels\n",
    "    ])\n",
    "}"
   ]
  },
  {
   "cell_type": "code",
   "execution_count": 30,
   "metadata": {},
   "outputs": [
    {
     "name": "stdout",
     "output_type": "stream",
     "text": [
      "Train dataset size: 12971\n",
      "Validation dataset size: 1853\n",
      "Train dataset size: 1297\n",
      "Validation dataset size: 370\n",
      "Test dataset size: 186\n"
     ]
    }
   ],
   "source": [
    "batch_size = 32\n",
    "data_dir = 'AI_Competition'\n",
    "image_datasets = {x: datasets.ImageFolder(data_dir, data_transforms[x])\n",
    "                  for x in ['train', 'val']}\n",
    "\n",
    "# Create multiple augmented datasets and concatenate them\n",
    "augmented_datasets = {x: image_datasets[x] for x in ['train', 'val']}  # Start with the original dataset\n",
    "\n",
    "for i in range(1, 7):  # Create 6 augmented versions\n",
    "    for phase in ['train']:\n",
    "        augmented_dataset = datasets.ImageFolder(data_dir, data_transforms[phase])\n",
    "        # Concatenate the original dataset with the new augmented one\n",
    "        augmented_datasets[phase] = torch.utils.data.ConcatDataset([augmented_datasets[phase], augmented_dataset])\n",
    "\n",
    "# Create dataloaders from the concatenated datasets\n",
    "dataloaders = {x: DataLoader(augmented_datasets[x], batch_size=batch_size,\n",
    "                             shuffle=True, num_workers=4)\n",
    "               for x in ['train', 'val']}\n",
    "\n",
    "# Dataset sizes and class names\n",
    "dataset_sizes = {x: len(augmented_datasets[x]) for x in ['train', 'val']}\n",
    "class_names = image_datasets['train'].classes\n",
    "\n",
    "print(f\"Train dataset size: {dataset_sizes['train']}\")\n",
    "print(f\"Validation dataset size: {dataset_sizes['val']}\")\n",
    "\n",
    "from torch.utils.data import random_split\n",
    "\n",
    "# Define the split ratios\n",
    "train_ratio = 0.7\n",
    "val_ratio = 0.2\n",
    "test_ratio = 0.1\n",
    "\n",
    "# Calculate the sizes for each split\n",
    "total_size = len(image_datasets['train'])\n",
    "train_size = int(train_ratio * total_size)\n",
    "val_size = int(val_ratio * total_size)\n",
    "test_size = total_size - train_size - val_size\n",
    "\n",
    "# Split the dataset\n",
    "train_dataset, val_dataset, test_dataset = random_split(image_datasets['train'], [train_size, val_size, test_size])\n",
    "\n",
    "# Create dataloaders for each split\n",
    "dataloaders = {\n",
    "    'train': DataLoader(train_dataset, batch_size=batch_size, shuffle=True, num_workers=4),\n",
    "    'val': DataLoader(val_dataset, batch_size=batch_size, shuffle=True, num_workers=4),\n",
    "    'test': DataLoader(test_dataset, batch_size=batch_size, shuffle=True, num_workers=4)\n",
    "}\n",
    "\n",
    "# Update dataset sizes\n",
    "dataset_sizes = {\n",
    "    'train': len(train_dataset),\n",
    "    'val': len(val_dataset),\n",
    "    'test': len(test_dataset)\n",
    "}\n",
    "\n",
    "print(f\"Train dataset size: {dataset_sizes['train']}\")\n",
    "print(f\"Validation dataset size: {dataset_sizes['val']}\")\n",
    "print(f\"Test dataset size: {dataset_sizes['test']}\")\n"
   ]
  },
  {
   "cell_type": "code",
   "execution_count": 25,
   "metadata": {},
   "outputs": [
    {
     "name": "stderr",
     "output_type": "stream",
     "text": [
      "C:\\Users\\jobc3\\AppData\\Local\\Packages\\PythonSoftwareFoundation.Python.3.12_qbz5n2kfra8p0\\LocalCache\\local-packages\\Python312\\site-packages\\torchvision\\models\\_utils.py:208: UserWarning: The parameter 'pretrained' is deprecated since 0.13 and may be removed in the future, please use 'weights' instead.\n",
      "  warnings.warn(\n",
      "C:\\Users\\jobc3\\AppData\\Local\\Packages\\PythonSoftwareFoundation.Python.3.12_qbz5n2kfra8p0\\LocalCache\\local-packages\\Python312\\site-packages\\torchvision\\models\\_utils.py:223: UserWarning: Arguments other than a weight enum or `None` for 'weights' are deprecated since 0.13 and may be removed in the future. The current behavior is equivalent to passing `weights=ResNet18_Weights.IMAGENET1K_V1`. You can also use `weights=ResNet18_Weights.DEFAULT` to get the most up-to-date weights.\n",
      "  warnings.warn(msg)\n"
     ]
    },
    {
     "name": "stdout",
     "output_type": "stream",
     "text": [
      "True\n",
      "cuda:0\n"
     ]
    }
   ],
   "source": [
    "# Load a pre-trained ResNet18 model\n",
    "model = models.resnet18(pretrained=True)\n",
    "\n",
    "# Get the input dimensions of the last layer (fully connected layer)\n",
    "num_ftrs = model.fc.in_features\n",
    "\n",
    "# Replace the last layer with a new one that has `num_classes` outputs\n",
    "model.fc = nn.Linear(num_ftrs, len(class_names))\n",
    "\n",
    "device = torch.device(\"cuda:0\" if torch.cuda.is_available() else \"cpu\")\n",
    "print(torch.cuda.is_available())\n",
    "print(device)\n",
    "model = model.to(device)"
   ]
  },
  {
   "cell_type": "code",
   "execution_count": 26,
   "metadata": {},
   "outputs": [
    {
     "name": "stdout",
     "output_type": "stream",
     "text": [
      "Epoch 0/9\n",
      "----------\n",
      "train Loss: 1.1539 Acc: 0.6205\n",
      "val Loss: 0.2981 Acc: 0.9147\n",
      "Epoch 1/9\n",
      "----------\n",
      "train Loss: 0.4982 Acc: 0.8396\n",
      "val Loss: 0.1326 Acc: 0.9617\n",
      "Epoch 2/9\n",
      "----------\n",
      "train Loss: 0.3602 Acc: 0.8853\n",
      "val Loss: 0.0654 Acc: 0.9854\n",
      "Epoch 3/9\n",
      "----------\n",
      "train Loss: 0.2837 Acc: 0.9079\n",
      "val Loss: 0.0421 Acc: 0.9887\n",
      "Epoch 4/9\n",
      "----------\n",
      "train Loss: 0.2502 Acc: 0.9204\n",
      "val Loss: 0.0267 Acc: 0.9924\n",
      "Epoch 5/9\n",
      "----------\n",
      "train Loss: 0.2080 Acc: 0.9346\n",
      "val Loss: 0.0210 Acc: 0.9951\n",
      "Epoch 6/9\n",
      "----------\n",
      "train Loss: 0.1993 Acc: 0.9349\n",
      "val Loss: 0.0146 Acc: 0.9973\n",
      "Epoch 7/9\n",
      "----------\n",
      "train Loss: 0.1830 Acc: 0.9409\n",
      "val Loss: 0.0105 Acc: 0.9973\n",
      "Epoch 8/9\n",
      "----------\n",
      "train Loss: 0.1584 Acc: 0.9472\n",
      "val Loss: 0.0056 Acc: 0.9995\n",
      "Epoch 9/9\n",
      "----------\n",
      "train Loss: 0.1501 Acc: 0.9532\n",
      "val Loss: 0.0046 Acc: 1.0000\n",
      "Best val Acc: 1.0000\n"
     ]
    },
    {
     "data": {
      "text/plain": [
       "<All keys matched successfully>"
      ]
     },
     "execution_count": 26,
     "metadata": {},
     "output_type": "execute_result"
    }
   ],
   "source": [
    "num_epochs = 10\n",
    "criterion = nn.CrossEntropyLoss()\n",
    "optimizer = optim.SGD(model.parameters(), lr=0.001, momentum=0.9) \n",
    "best_model_wts = model.state_dict()  # Store the best model weights\n",
    "best_acc = 0.0  # Track the best validation accuracy\n",
    "\n",
    "for epoch in range(num_epochs):\n",
    "    print(f'Epoch {epoch}/{num_epochs - 1}')\n",
    "    print('-' * 10)\n",
    "    \n",
    "    for phase in ['train', 'val']:\n",
    "        if phase == 'train':\n",
    "            model.train()  # Set the model to training mode\n",
    "        else:\n",
    "            model.eval()   # Set the model to evaluation mode\n",
    "        \n",
    "        running_loss = 0.0  # Track the loss\n",
    "        running_corrects = 0  # Track the number of correct predictions\n",
    "        \n",
    "        for inputs, labels in dataloaders[phase]:\n",
    "            inputs, labels = inputs.to(device), labels.to(device)  # Move data to the GPU/CPU\n",
    "            \n",
    "            optimizer.zero_grad()  # Clear the gradients\n",
    "            \n",
    "            with torch.set_grad_enabled(phase == 'train'):\n",
    "                outputs = model(inputs)  # Forward pass\n",
    "                _, preds = torch.max(outputs, 1)  # Get the class with the highest score\n",
    "                loss = criterion(outputs, labels)  # Calculate the loss\n",
    "                \n",
    "                if phase == 'train':\n",
    "                    loss.backward()  # Backpropagate the loss\n",
    "                    optimizer.step()  # Update the weights\n",
    "            \n",
    "            running_loss += loss.item() * inputs.size(0)\n",
    "            running_corrects += torch.sum(preds == labels.data)\n",
    "        \n",
    "        epoch_loss = running_loss / dataset_sizes[phase]\n",
    "        epoch_acc = running_corrects.double() / dataset_sizes[phase]\n",
    "        \n",
    "        print(f'{phase} Loss: {epoch_loss:.4f} Acc: {epoch_acc:.4f}')\n",
    "        \n",
    "        if phase == 'val' and epoch_acc > best_acc:\n",
    "            best_acc = epoch_acc\n",
    "            best_model_wts = model.state_dict()\n",
    "\n",
    "print(f'Best val Acc: {best_acc:.4f}')\n",
    "\n",
    "model.load_state_dict(best_model_wts)"
   ]
  },
  {
   "cell_type": "code",
   "execution_count": 27,
   "metadata": {},
   "outputs": [
    {
     "name": "stdout",
     "output_type": "stream",
     "text": [
      "Accuracy: 1.0000\n",
      "Precision: 1.0000\n",
      "Recall: 1.0000\n",
      "F1 Score: 1.0000\n",
      "Log Loss: 0.0046\n"
     ]
    },
    {
     "name": "stderr",
     "output_type": "stream",
     "text": [
      "C:\\Users\\jobc3\\AppData\\Local\\Packages\\PythonSoftwareFoundation.Python.3.12_qbz5n2kfra8p0\\LocalCache\\local-packages\\Python312\\site-packages\\sklearn\\metrics\\_classification.py:2956: UserWarning: The y_pred values do not sum to one. Make sure to pass probabilities.\n",
      "  warnings.warn(\n"
     ]
    }
   ],
   "source": [
    "# Evaluate the model on the validation set\n",
    "model.eval()  # Set model to evaluation mode\n",
    "all_labels = []\n",
    "all_preds = []\n",
    "all_probs = []\n",
    "running_loss = 0.0\n",
    "dataloader = dataloaders['val']\n",
    "\n",
    "with torch.no_grad():\n",
    "    for inputs, labels in dataloader:\n",
    "        inputs, labels = inputs.to(device), labels.to(device)\n",
    "        outputs = model(inputs)  # Forward pass\n",
    "        loss = criterion(outputs, labels)  # Calculate the loss\n",
    "        \n",
    "        running_loss += loss.item() * inputs.size(0)\n",
    "        \n",
    "        _, preds = torch.max(outputs, 1)  # Get the class with the highest score\n",
    "        probs = torch.nn.functional.softmax(outputs, dim=1)  # Get probabilities\n",
    "        \n",
    "        all_labels.extend(labels.cpu().numpy())  # Store true labels\n",
    "        all_preds.extend(preds.cpu().numpy())    # Store predicted labels\n",
    "        all_probs.extend(probs.cpu().numpy())    # Store probabilities\n",
    "\n",
    "avg_loss = running_loss / len(dataloader.dataset)  # Calculate average loss\n",
    "\n",
    "# Calculate overall metrics\n",
    "accuracy = accuracy_score(all_labels, all_preds)\n",
    "precision, recall, f1, _ = precision_recall_fscore_support(all_labels, all_preds, average='weighted')\n",
    "logloss = log_loss(all_labels, all_probs)\n",
    "\n",
    "print(f'Accuracy: {accuracy:.4f}')\n",
    "print(f'Precision: {precision:.4f}')\n",
    "print(f'Recall: {recall:.4f}')\n",
    "print(f'F1 Score: {f1:.4f}')\n",
    "print(f'Log Loss: {logloss:.4f}')"
   ]
  },
  {
   "cell_type": "code",
   "execution_count": 28,
   "metadata": {},
   "outputs": [],
   "source": [
    "# Finally save the best model!\n",
    "torch.save(model.state_dict(), \"best_model.pth\") "
   ]
  }
 ],
 "metadata": {
  "kernelspec": {
   "display_name": "Python 3",
   "language": "python",
   "name": "python3"
  },
  "language_info": {
   "codemirror_mode": {
    "name": "ipython",
    "version": 3
   },
   "file_extension": ".py",
   "mimetype": "text/x-python",
   "name": "python",
   "nbconvert_exporter": "python",
   "pygments_lexer": "ipython3",
   "version": "3.12.6"
  }
 },
 "nbformat": 4,
 "nbformat_minor": 2
}
