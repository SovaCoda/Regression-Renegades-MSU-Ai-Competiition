{
 "cells": [
  {
   "cell_type": "code",
   "execution_count": 1,
   "metadata": {},
   "outputs": [],
   "source": [
    "# get all imports\n",
    "import torch\n",
    "import torch.nn as nn\n",
    "import torch.optim as optim\n",
    "from torch.utils.data import DataLoader\n",
    "from sklearn.metrics import accuracy_score, precision_recall_fscore_support, log_loss # if you're on mac using miniconda miniforge3 install miniforge::compilers to fix issue with this module\n",
    "import torchvision.transforms as transforms\n",
    "import torchvision.datasets as datasets\n",
    "import torchvision.models as models\n",
    "import numpy as np\n",
    "import os"
   ]
  },
  {
   "cell_type": "code",
   "execution_count": 3,
   "metadata": {},
   "outputs": [],
   "source": [
    "# Define data transforms from the Ai_Competition github\n",
    "data_transforms = {\n",
    "        'train': transforms.Compose([\n",
    "            transforms.RandomResizedCrop(512),        # Randomly crop the image to 512x512\n",
    "            transforms.RandomHorizontalFlip(),        # Randomly flip the image horizontally\n",
    "            transforms.ToTensor(),                    # Convert the image to a tensor\n",
    "            transforms.Normalize([0.485, 0.456, 0.406], # Normalize with standard values\n",
    "                                 [0.229, 0.224, 0.225]) # Mean and Std for RGB channels\n",
    "        ]),\n",
    "        'val': transforms.Compose([\n",
    "            transforms.Resize(512),                    # Resize the image to 512x512\n",
    "            transforms.CenterCrop(512),                # Crop from the center\n",
    "            transforms.ToTensor(),                     # Convert the image to a tensor\n",
    "            transforms.Normalize([0.485, 0.456, 0.406], # Normalize with standard values\n",
    "                                 [0.229, 0.224, 0.225]) # Mean and Std for RGB channels\n",
    "        ]),\n",
    "    }"
   ]
  },
  {
   "cell_type": "code",
   "execution_count": 4,
   "metadata": {},
   "outputs": [],
   "source": [
    "data_dir = \"AI_Competition\"\n",
    "batch_size=32\n",
    "image_datasets = {x: datasets.ImageFolder(data_dir,\n",
    "    data_transforms[x])\n",
    "    for x in ['train', 'val']}\n",
    "\n",
    "dataloaders = {x: DataLoader(image_datasets[x], batch_size=batch_size,\n",
    "    shuffle=True, num_workers=4)\n",
    "    for x in ['train', 'val']}\n",
    "\n",
    "dataset_sizes = {x: len(image_datasets[x]) for x in ['train', 'val']}\n",
    "class_names = image_datasets['train'].classes"
   ]
  },
  {
   "cell_type": "code",
   "execution_count": 5,
   "metadata": {},
   "outputs": [
    {
     "name": "stderr",
     "output_type": "stream",
     "text": [
      "/Users/kevincrothers/miniforge3/lib/python3.10/site-packages/torchvision/models/_utils.py:208: UserWarning: The parameter 'pretrained' is deprecated since 0.13 and may be removed in the future, please use 'weights' instead.\n",
      "  warnings.warn(\n",
      "/Users/kevincrothers/miniforge3/lib/python3.10/site-packages/torchvision/models/_utils.py:223: UserWarning: Arguments other than a weight enum or `None` for 'weights' are deprecated since 0.13 and may be removed in the future. The current behavior is equivalent to passing `weights=ResNet18_Weights.IMAGENET1K_V1`. You can also use `weights=ResNet18_Weights.DEFAULT` to get the most up-to-date weights.\n",
      "  warnings.warn(msg)\n"
     ]
    }
   ],
   "source": [
    "# Load a pre-trained ResNet18 model\n",
    "model = models.resnet18(pretrained=True)\n",
    "\n",
    "# Get the input dimensions of the last layer (fully connected layer)\n",
    "num_ftrs = model.fc.in_features\n",
    "\n",
    "# Replace the last layer with a new one that has `num_classes` outputs\n",
    "model.fc = nn.Linear(num_ftrs, len(class_names))\n",
    "\n",
    "device = torch.device(\"cuda:0\" if torch.cuda.is_available() else \"cpu\")\n",
    "model = model.to(device)"
   ]
  },
  {
   "cell_type": "code",
   "execution_count": 46,
   "metadata": {},
   "outputs": [
    {
     "name": "stdout",
     "output_type": "stream",
     "text": [
      "Epoch 0/9\n",
      "----------\n"
     ]
    }
   ],
   "source": [
    "num_epochs = 10\n",
    "criterion = nn.CrossEntropyLoss()\n",
    "optimizer = optim.SGD(model.parameters(), lr=0.001, momentum=0.9) \n",
    "best_model_wts = model.state_dict()  # Store the best model weights\n",
    "best_acc = 0.0  # Track the best validation accuracy\n",
    "\n",
    "for epoch in range(num_epochs):\n",
    "    print(f'Epoch {epoch}/{num_epochs - 1}')\n",
    "    print('-' * 10)\n",
    "    \n",
    "    for phase in ['train', 'val']:\n",
    "        if phase == 'train':\n",
    "            model.train()  # Set the model to training mode\n",
    "        else:\n",
    "            model.eval()   # Set the model to evaluation mode\n",
    "        \n",
    "        running_loss = 0.0  # Track the loss\n",
    "        running_corrects = 0  # Track the number of correct predictions\n",
    "        \n",
    "        for inputs, labels in dataloaders[phase]:\n",
    "            inputs, labels = inputs.to(device), labels.to(device)  # Move data to the GPU/CPU\n",
    "            \n",
    "            optimizer.zero_grad()  # Clear the gradients\n",
    "            \n",
    "            with torch.set_grad_enabled(phase == 'train'):\n",
    "                outputs = model(inputs)  # Forward pass\n",
    "                _, preds = torch.max(outputs, 1)  # Get the class with the highest score\n",
    "                loss = criterion(outputs, labels)  # Calculate the loss\n",
    "                \n",
    "                if phase == 'train':\n",
    "                    loss.backward()  # Backpropagate the loss\n",
    "                    optimizer.step()  # Update the weights\n",
    "            \n",
    "            running_loss += loss.item() * inputs.size(0)\n",
    "            running_corrects += torch.sum(preds == labels.data)\n",
    "        \n",
    "        epoch_loss = running_loss / dataset_sizes[phase]\n",
    "        epoch_acc = running_corrects.double() / dataset_sizes[phase]\n",
    "        \n",
    "        print(f'{phase} Loss: {epoch_loss:.4f} Acc: {epoch_acc:.4f}')\n",
    "        \n",
    "        if phase == 'val' and epoch_acc > best_acc:\n",
    "            best_acc = epoch_acc\n",
    "            best_model_wts = model.state_dict()\n",
    "\n",
    "print(f'Best val Acc: {best_acc:.4f}')\n",
    "\n",
    "model.load_state_dict(best_model_wts)"
   ]
  },
  {
   "cell_type": "code",
   "execution_count": null,
   "metadata": {},
   "outputs": [],
   "source": [
    "# Evaluate the model on the validation set\n",
    "model.eval()  # Set model to evaluation mode\n",
    "all_labels = []\n",
    "all_preds = []\n",
    "all_probs = []\n",
    "running_loss = 0.0\n",
    "\n",
    "with torch.no_grad():\n",
    "    for inputs, labels in dataloader:\n",
    "        inputs, labels = inputs.to(device), labels.to(device)\n",
    "        outputs = model(inputs)  # Forward pass\n",
    "        loss = criterion(outputs, labels)  # Calculate the loss\n",
    "        \n",
    "        running_loss += loss.item() * inputs.size(0)\n",
    "        \n",
    "        _, preds = torch.max(outputs, 1)  # Get the class with the highest score\n",
    "        probs = torch.nn.functional.softmax(outputs, dim=1)  # Get probabilities\n",
    "        \n",
    "        all_labels.extend(labels.cpu().numpy())  # Store true labels\n",
    "        all_preds.extend(preds.cpu().numpy())    # Store predicted labels\n",
    "        all_probs.extend(probs.cpu().numpy())    # Store probabilities\n",
    "\n",
    "avg_loss = running_loss / len(dataloader.dataset)  # Calculate average loss\n",
    "\n",
    "# Calculate overall metrics\n",
    "accuracy = accuracy_score(all_labels, all_preds)\n",
    "precision, recall, f1, _ = precision_recall_fscore_support(all_labels, all_preds, average='weighted')\n",
    "logloss = log_loss(all_labels, all_probs)\n",
    "\n",
    "print(f'Accuracy: {accuracy:.4f}')\n",
    "print(f'Precision: {precision:.4f}')\n",
    "print(f'Recall: {recall:.4f}')\n",
    "print(f'F1 Score: {f1:.4f}')\n",
    "print(f'Log Loss: {logloss:.4f}')"
   ]
  },
  {
   "cell_type": "code",
   "execution_count": null,
   "metadata": {},
   "outputs": [],
   "source": [
    "# Finally save the best model!\n",
    "torch.save(model.state_dict(), \"best_model.pth\") "
   ]
  }
 ],
 "metadata": {
  "kernelspec": {
   "display_name": "Python 3",
   "language": "python",
   "name": "python3"
  },
  "language_info": {
   "codemirror_mode": {
    "name": "ipython",
    "version": 3
   },
   "file_extension": ".py",
   "mimetype": "text/x-python",
   "name": "python",
   "nbconvert_exporter": "python",
   "pygments_lexer": "ipython3",
   "version": "3.10.14"
  }
 },
 "nbformat": 4,
 "nbformat_minor": 2
}
