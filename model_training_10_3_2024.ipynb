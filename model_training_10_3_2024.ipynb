Epoch 0/14
----------
train Loss: 2.1655 Acc: 0.2360
val Loss: 1.9662 Acc: 0.3636
Epoch 1/14
----------
train Loss: 1.7354 Acc: 0.4865
val Loss: 1.5403 Acc: 0.5783
Epoch 2/14
----------
train Loss: 1.3664 Acc: 0.6381
val Loss: 1.1930 Acc: 0.6731
Epoch 3/14
----------
train Loss: 1.0888 Acc: 0.7184
val Loss: 0.9393 Acc: 0.7427
Epoch 4/14
----------
train Loss: 0.8819 Acc: 0.7739
val Loss: 0.7714 Acc: 0.7911
Epoch 5/14
----------
train Loss: 0.7337 Acc: 0.8077
val Loss: 0.6431 Acc: 0.8104
Epoch 6/14
----------
train Loss: 0.6182 Acc: 0.8413
val Loss: 0.5470 Acc: 0.8549
Epoch 7/14
----------
train Loss: 0.5262 Acc: 0.8591
val Loss: 0.4710 Acc: 0.8627
Epoch 8/14
----------
train Loss: 0.4611 Acc: 0.8794
val Loss: 0.4261 Acc: 0.8839
Epoch 9/14
----------
train Loss: 0.4051 Acc: 0.8931
val Loss: 0.3732 Acc: 0.8975
Epoch 10/14
----------
train Loss: 0.3597 Acc: 0.9072
val Loss: 0.3442 Acc: 0.9033
Epoch 11/14
----------
train Loss: 0.3227 Acc: 0.9169
val Loss: 0.3158 Acc: 0.9091
Epoch 12/14
----------
train Loss: 0.2891 Acc: 0.9290
val Loss: 0.2976 Acc: 0.9149
Epoch 13/14
----------
train Loss: 0.2577 Acc: 0.9355
val Loss: 0.2796 Acc: 0.9207
Epoch 14/14
----------
train Loss: 0.2370 Acc: 0.9434
val Loss: 0.2644 Acc: 0.9284
Best val Acc: 0.9284
